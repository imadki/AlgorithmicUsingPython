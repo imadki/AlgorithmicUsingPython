{
 "cells": [
  {
   "cell_type": "code",
   "execution_count": 6,
   "id": "686145f7",
   "metadata": {},
   "outputs": [
    {
     "name": "stdout",
     "output_type": "stream",
     "text": [
      "[10, 9, 8, 7, 6, 5, 4, 3, 2, 1, 0]\n",
      "[0, 1, 2, 3, 4, 5, 6, 7, 8, 9, 10]\n"
     ]
    }
   ],
   "source": [
    "# Insertion Sort\n",
    "\n",
    "\n",
    "def swap(a,b):\n",
    "    s = a \n",
    "    a = b\n",
    "    b = s\n",
    "    return a,b\n",
    "\n",
    "\n",
    "def Insertion_Sort(L):\n",
    "    for i in range(1,len(L)):\n",
    "        j=i\n",
    "        while j>0 and L[j-1]>L[j]:\n",
    "            L[j-1],L[j] = swap(L[j-1],L[j])\n",
    "            j-=1\n",
    "    print(L)\n",
    "\n",
    "print([10,9,8,7,6,5,4,3,2,1,0])\n",
    "Insertion_Sort([10,9,8,7,6,5,4,3,2,1,0])\n"
   ]
  },
  {
   "cell_type": "code",
   "execution_count": 8,
   "id": "712d36fe",
   "metadata": {},
   "outputs": [
    {
     "name": "stdout",
     "output_type": "stream",
     "text": [
      "[38, 27, 54]\n",
      "[38] [27, 54] 1\n",
      "[27, 54]\n",
      "[27] [54] 1\n",
      "[38, 27, 54]\n",
      "None\n"
     ]
    }
   ],
   "source": [
    " # Merge Sort Algorithm \n",
    " # It is in the category of Devide and Conquer Algorithms\n",
    " # It has a complexity of : O(nlog(n))\n",
    "\n",
    "\n",
    "def Conquer_Swap(L1,L2):\n",
    "    if L1[0] > L2[0]:\n",
    "        s = L2[0]\n",
    "        L2[0] = L1[0]\n",
    "        L1[0] = s\n",
    "    return L1,L2\n",
    "\n",
    "\n",
    "def Merge(L1,L2):\n",
    "    L = L1[:] + L2[:]\n",
    "    return L\n",
    "\n",
    "def fusion(L1,L2):\n",
    "    L = []\n",
    "    for i in range(len(L1)):\n",
    "        while j < len(L2):\n",
    "            if L1[i] < L2[j]: \n",
    "                L1.append(L1[i])\n",
    "                break\n",
    "            else :\n",
    "                L2.append(L2[j])\n",
    "    return L\n",
    "            \n",
    "\n",
    "def Divide_Conquer(L):\n",
    "    if len(L) == 1 :\n",
    "        return L\n",
    "    print(L)\n",
    "    m = int(len(L)/2)\n",
    "    L1 ,L2 = L[:m] ,L[m:]\n",
    "    print(L1,L2,m)\n",
    "    \n",
    "\n",
    "    if len(L1)!=1 or len(L2)!=1 : \n",
    "        L1 = Divide_Conquer(L1)\n",
    "        L2 = Divide_Conquer(L2)\n",
    "        \n",
    "\n",
    "\n",
    "    else: \n",
    "        L1,L2 = Conquer_Swap(L1,L2)\n",
    "        L = Merge(L1,L2)\n",
    "         \n",
    "\n",
    "\n",
    "\n",
    "L = [ 38, 27,54]\n",
    "L_Sorted = L[:]\n",
    "L_Sorted = Divide_Conquer(L)\n",
    "\n",
    "print(L)\n",
    "print(L_Sorted)\n",
    "\n",
    "\n"
   ]
  },
  {
   "cell_type": "code",
   "execution_count": 12,
   "id": "0ed8c812",
   "metadata": {},
   "outputs": [
    {
     "name": "stdout",
     "output_type": "stream",
     "text": [
      "[38, 27, 54]\n"
     ]
    }
   ],
   "source": [
    "# Selection Sort\n",
    "\n",
    "def selection_sort(arr):\n",
    "    # Iterate through the entire array\n",
    "    \n",
    "    for i in range(len(arr)):\n",
    "    # Find the minimum element in the remaining unsorted array\n",
    "        min_idx = i\n",
    "    \n",
    "    for j in range(i+1, len(arr)):\n",
    "        if arr[j] < arr[min_idx]:\n",
    "            min_idx = j\n",
    "        \n",
    "    # Swap the minimum element with the first element of the unsorted array\n",
    "    arr[i], arr[min_idx] = arr[min_idx], arr[i]\n",
    "    print(arr)\n",
    "\n",
    "\n",
    "selection_sort([ 38, 27,54])\n",
    "\n"
   ]
  },
  {
   "cell_type": "code",
   "execution_count": 14,
   "id": "579ac6f4",
   "metadata": {},
   "outputs": [],
   "source": [
    "def quicksort(arr):\n",
    "    # Base case: if the array has fewer than 2 elements, it is already sorted\n",
    "    if len(arr) < 2:\n",
    "        return arr\n",
    "  \n",
    "    # Select the pivot element\n",
    "    pivot = arr[0]\n",
    "  \n",
    "    # Partition the array into two subarrays: one containing elements less than the pivot,\n",
    "    # and one containing elements greater than or equal to the pivot\n",
    "    less = [x for x in arr[1:] if x < pivot]\n",
    "    greater_or_equal = [x for x in arr[1:] if x >= pivot]\n",
    "  \n",
    "    # Recursively sort the two subarrays\n",
    "    return quicksort(less) + [pivot] + quicksort(greater_or_equal)"
   ]
  },
  {
   "cell_type": "code",
   "execution_count": null,
   "id": "6b15ef54",
   "metadata": {},
   "outputs": [],
   "source": []
  }
 ],
 "metadata": {
  "kernelspec": {
   "display_name": "Python 3 (ipykernel)",
   "language": "python",
   "name": "python3"
  },
  "language_info": {
   "codemirror_mode": {
    "name": "ipython",
    "version": 3
   },
   "file_extension": ".py",
   "mimetype": "text/x-python",
   "name": "python",
   "nbconvert_exporter": "python",
   "pygments_lexer": "ipython3",
   "version": "3.10.6"
  }
 },
 "nbformat": 4,
 "nbformat_minor": 5
}
