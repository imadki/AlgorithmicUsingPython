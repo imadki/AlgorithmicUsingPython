{
 "cells": [
  {
   "cell_type": "markdown",
   "metadata": {},
   "source": [
    "## Exercise 1: Hamming distance\n",
    "\n",
    "Write a `hamming()` function that calculates the Hamming distance between two words when they have the same length, and returns −1 otherwise.\n",
    "\n",
    "- Indication:\n",
    "\n",
    "    The Hamming distance between two vectors is simply the sum of corresponding elements that differ between the vectors.\n",
    "\n",
    "    - For example, suppose we have the following two vectors:\n",
    "    ```python\n",
    "    x = [1, 2, 3, 4]\n",
    "    y = [1, 2, 5, 7]\n",
    "    ```\n",
    "    - The Hamming distance between the two vectors would be 2, since this is the total number of corresponding elements that have different values.\n",
    "\n",
    "\n",
    "### "
   ]
  },
  {
   "cell_type": "code",
   "execution_count": 4,
   "metadata": {},
   "outputs": [
    {
     "name": "stdout",
     "output_type": "stream",
     "text": [
      "It is not possible to calculate the Hamming distance of the given words\n"
     ]
    }
   ],
   "source": [
    "L1 = [11,45,55,55,11,41,52,15,6]\n",
    "L2 = [11,554,55,1,11,2,4,7,5]\n",
    "\n",
    "def Hamming_distance(L1,L2):\n",
    "    hamming = 0\n",
    "    if len(L1) != len(L2):\n",
    "        return \"It is not possible to calculate the Hamming distance of the given words\"\n",
    "    else :\n",
    "        for i in range(len(L1)):\n",
    "            if L1[i] != L2[i]:\n",
    "                hamming += 1\n",
    "        return hamming \n",
    "    \n",
    "distance = Hamming_distance(L1,L2)\n",
    "print(distance)\n",
    "    "
   ]
  },
  {
   "cell_type": "markdown",
   "metadata": {},
   "source": [
    "## Exercise 2: Syracuse sequence\n",
    "\n",
    "We define the Syracuse sequence ($u_n$) by $u_0$ $\\in$ $\\mathbb{N}$ and\n",
    "\n",
    "$$\n",
    "u_n + 1 = \\left\\{\n",
    "    \\begin{array}{ll}\n",
    "        \\frac{u_n}{2} \\mbox{ if $u_n$ is even} \\\\\n",
    "        3u_{n+1} \\mbox{ if $u_n$ is odd} \n",
    "    \\end{array}\n",
    "\\right.\n",
    "$$\n",
    "\n",
    "1. Write a `syracuse()` function which takes as input two integers $u_0$ and $n$ and returns $u_n$.\n",
    "2. Check that we always end up with cycle $4,2,1,4,2,1,\\dots$, for $0 \\leq u_0 \\leq 20$.\n",
    "3. Given u_0 $\\in$ $\\mathbb{N}$ denote $h$ the smallest of the integers $n$ such that $u_n = 1$ (we assume that such $h$ exists).\n",
    "    - Write a function `height()` which takes as input $u_0$ and calculates $h$.\n",
    "4. Calculate the couples ($u_0$, height($u_0$)) for $u_0 \\leq 100$."
   ]
  },
  {
   "cell_type": "code",
   "execution_count": null,
   "metadata": {},
   "outputs": [],
   "source": [
    "# syracuse() function \n",
    "def syracuse(u: int, n: int):\n",
    "    for i in range(n):\n",
    "        if u % 2 == 0:\n",
    "            u = u // 2\n",
    "        else:\n",
    "            u = 3 * u + 1\n",
    "    return u"
   ]
  },
  {
   "cell_type": "code",
   "execution_count": null,
   "metadata": {},
   "outputs": [],
   "source": [
    "# Check if there exists the cycle 4,2,1 for a given integer n \n",
    "def syracuse_Check_Cycle(n: int):\n",
    "    sequence = [n]\n",
    "    while n != 1:\n",
    "        if n % 2 == 0:\n",
    "            n = n // 2\n",
    "        else:\n",
    "            n = 3 * n + 1\n",
    "        sequence.append(n)\n",
    "    \n",
    "    Cheking = sequence[(len(sequence)-3):]\n",
    "    \n",
    "    if cheking == [4,2,1]:\n",
    "        print(f'The cycle of {n} contains the cycle 4,2,1'  )\n",
    "\n",
    "# I applied the syracuse_Check_Cycle() function for inegers ranging from 0 to 20\n",
    "for u in range(20):\n",
    "    syracuse_Check_Cycle(u)"
   ]
  },
  {
   "cell_type": "code",
   "execution_count": null,
   "metadata": {},
   "outputs": [],
   "source": [
    "# Given an integer n calculate the height h (which ishe smallest of the integers  𝑛  such that  𝑢𝑛=1)\n",
    "def calc_height(n:int):\n",
    "    sequence = [n]\n",
    "    while n != 1:\n",
    "        if n % 2 == 0:\n",
    "            n = n // 2\n",
    "        else:\n",
    "            n = 3 * n + 1\n",
    "        sequence.append(n)\n",
    "    return sequence.index(1)"
   ]
  },
  {
   "cell_type": "code",
   "execution_count": null,
   "metadata": {},
   "outputs": [],
   "source": [
    "# apply calc_height() for integers ranging from 0 to 100\n",
    "def couples_of_int_height():\n",
    "    Couples = []\n",
    "    for u in range(100):\n",
    "        h = calc_height(u)\n",
    "        c = (u,h)\n",
    "        Couples.append(c)\n",
    "    return Couples     "
   ]
  },
  {
   "cell_type": "markdown",
   "metadata": {},
   "source": [
    "## Exercise 3: \n",
    "\n",
    "We consider the application $\\sigma = \\mathbb{N^*} \\to \\mathbb{N^*}$ which associates with each integer $n$ the sum of the cubes of the digits of its writing in base 10. \n",
    "- For example, if $n = 123$ then $\\sigma(n) = 1^3 + 2^3 + 3^3 = 36$.\n",
    "\n",
    "1. Write a `sigma()` function that takes as input a non-zero integer $n$ and returns the sum of cubes of its digits in base 10.\n",
    "\n",
    "2. Find all integers $n \\leq 1000$ such that $\\sigma(n) = n$.\n",
    "\n",
    "3. Given $a \\in \\mathbb{N^*}$, we are interested in the sequence ($u_n(a)$) defined by $u_0(a) = a$ and $u_{n+1}(a) = \\sigma(u_n(a))$.\n",
    "\n",
    "4. For several values of a, display the first 20 terms of the sequence ($u_n(a)$).\n",
    "\n",
    "5. Show using the computer that for all $1 \\leq a \\leq 9999$ which is a multiple of 3 we have $u_{13}(a) = 153$."
   ]
  },
  {
   "cell_type": "code",
   "execution_count": null,
   "metadata": {},
   "outputs": [],
   "source": [
    "n = int(input(\"n :\"))\n",
    "# This can be so optimized if I knew the formula of the second digt of a 3-digits integer.'cause this way I'll have the expicit formula of sigma in terms of n, so I won't have to iterate over the digits , and I'll have a complexity of O(1) in stead of O(log(n)) \n",
    "def sigma(n):\n",
    "    sig = 0\n",
    "    n = str(n)\n",
    "    for i in range(len(n)):\n",
    "        sig += (int(n[i]))**3\n",
    "    return sig\n"
   ]
  },
  {
   "cell_type": "code",
   "execution_count": null,
   "metadata": {},
   "outputs": [],
   "source": [
    "# This one can be optimized if I know (maybe) the formula of the second digt of a 3-digits integer. This one is O(n^2)\n",
    "def Find_identity():\n",
    "    S = []\n",
    "    c = 999\n",
    "    for n in range(c):\n",
    "        sig = sigma(n)\n",
    "    if sig == n:\n",
    "        S.append(n)       \n",
    "    return S \n"
   ]
  },
  {
   "cell_type": "code",
   "execution_count": null,
   "metadata": {},
   "outputs": [],
   "source": [
    "def Un(u):\n",
    "    display = []\n",
    "    for i in range(20):\n",
    "        display.append(u)\n",
    "        u = sigma(u)\n",
    "    return display"
   ]
  },
  {
   "cell_type": "code",
   "execution_count": null,
   "metadata": {},
   "outputs": [],
   "source": [
    "def Computer_Based_Proof():\n",
    "    L = []\n",
    "    L2 = []\n",
    "    for n in range(1,10000):\n",
    "        L = Un(n)\n",
    "        if n%3==0:\n",
    "            if L[12] == 153:\n",
    "                L2.append(f' for {n} is true' )\n",
    "            else :\n",
    "                L2.append(f' for {n} is FALSE ' )\n",
    "        return L2\n",
    "    "
   ]
  },
  {
   "cell_type": "markdown",
   "metadata": {},
   "source": [
    "## Exercise 4: \n",
    "\n",
    "We call magic square of order n, any square matrix $M$ of order $n$ whose elements are the integers from 1 to $n^2$ arranged so that their sums on each line, on each column and on the two diagonals are equal. The common value of these sums is called the magic constant of $M$, and we have in fact $M = \\frac{n(n^2+1)}{2}$.\n",
    "\n",
    "1. Write a `permutation()` function that takes an array $T$ consisting of $n$ integers and decides if $T$ is a permutation of {1, 2, $\\dots$ , n}.\n",
    "    - We will first check if all the elements of $T$ are in {1, 2,$\\dots$, n}.\n",
    "    - Then we will check that no element of $T$ is repeated.\n",
    "    \n",
    "2. Write a function `magic_square()` which makes it possible to decide if a square matrix $M$ is a magic square.\n",
    "    - We will first start by checking if the array M.flatten() is a permutation of {1, 2, $\\dots$ , $n^2$}.\n",
    "    - We will then use slicing to check if the sums of rows, columns and the two diagonals are the same.\n",
    "    \n",
    "3. Using the `magic_square()` function find the magic squares of order 2."
   ]
  },
  {
   "cell_type": "code",
   "execution_count": null,
   "metadata": {},
   "outputs": [],
   "source": []
  },
  {
   "cell_type": "markdown",
   "metadata": {},
   "source": [
    "## Exercise 5:\n",
    "\n",
    "1. Randomly generate a matrix $M$ of real numbers. Then calculate the tables of means, variances and standard deviations of the lines of $M$.\n",
    "\n",
    "2. Doing a search, find numpy functions and methods to do the same job as in question 1. without using loops."
   ]
  },
  {
   "cell_type": "code",
   "execution_count": 3,
   "metadata": {},
   "outputs": [],
   "source": [
    "# Your code here"
   ]
  },
  {
   "cell_type": "markdown",
   "metadata": {},
   "source": [
    "## Execise 6:\n",
    "\n",
    "A square matrix $M$ of order $n$ is said to be stochastic if all its coefficients are in [0,1] and the sum of the coefficients of each row of $M$ is equal to 1.\n",
    "\n",
    "1. Write a test function `stoch()` which verifies if a square matrix $M$ is stochastic.\n",
    "2. Write a function `stoch(n)` which allows to randomly generate a stochastic matrix of order $n$.\n",
    "3. Write a `sequence()` function which takes as input a stochastic matrix $M$ of order $n$ and a vector $V$ of size $n$ as well as an integer $d$ and displays the vectors\n",
    "\n",
    "$$\n",
    "V, M.V, M^2.V, \\dots , M^d.V\n",
    "$$\n",
    "\n",
    "- To calculate the product $M.V$ we use the `dot()` function by simply writing ```np.dot(M,V)```.\n",
    "\n",
    "4. For fixed $n$, for example 4, randomly generate a stochastic matrix $M$ of order $n$ and a vector of size $n$. Then test the function `sequence()` on $M$ and $V$ with several values of $d$. Repeat this experiment several times and draw a conclusion."
   ]
  },
  {
   "cell_type": "code",
   "execution_count": null,
   "metadata": {},
   "outputs": [],
   "source": [
    "# Your code here"
   ]
  }
 ],
 "metadata": {
  "kernelspec": {
   "display_name": "Python 3 (ipykernel)",
   "language": "python",
   "name": "python3"
  },
  "language_info": {
   "codemirror_mode": {
    "name": "ipython",
    "version": 3
   },
   "file_extension": ".py",
   "mimetype": "text/x-python",
   "name": "python",
   "nbconvert_exporter": "python",
   "pygments_lexer": "ipython3",
   "version": "3.10.6"
  }
 },
 "nbformat": 4,
 "nbformat_minor": 4
}
