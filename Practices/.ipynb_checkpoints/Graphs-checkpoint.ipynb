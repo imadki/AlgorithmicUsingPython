{
 "cells": [
  {
   "cell_type": "markdown",
   "metadata": {},
   "source": [
    "## Exercise 1: Write a function that checks whether a given graph is connected or not.\n",
    "\n",
    "A graph $G=(S,A)$ is said to be connected if for any pair of vertices $(u,v)$ there is a path connecting $u$ and $v$. \n",
    "- Example 1: Oriented graph\n",
    "\n",
    "![orientedgraph](data/oriented-graph.png)\n",
    "\n",
    "    - The graph above is connected because we can find a path between each pair of vertices\n",
    "    - The pairs of vertices are: $(1,2)$, $(1,3)$, $(1,4)$, $(1,5)$, $(2,3)$, $(2,4)$, $(2,5)$, $(3,2)$, $(3,4)$, $(3,5)$, $(4,5)$.\n",
    "    \n",
    "- Example 2: Unoriented graph\n",
    "\n",
    "![unorientedgraph](data/unoriented-graph.png)\n",
    "\n",
    "    - The graph above is not connected because we cannot find a path between the vertices (5,6) and the other vertices. \n",
    "    - This graph is composed of two connected components."
   ]
  },
  {
   "cell_type": "code",
   "execution_count": 2,
   "metadata": {},
   "outputs": [],
   "source": [
    "# Your code here"
   ]
  },
  {
   "cell_type": "markdown",
   "metadata": {},
   "source": [
    "## Exercise 2: Given a binary tree, find the sum of all the leaves.\n",
    "\n",
    "![Tree1](data/tree1.png)\n",
    "\n",
    "- Example: \n",
    "\n",
    "```python\n",
    ">>> a = [40, [14, [5, [3, [], []], [2, [], []] ], [4, [], [] ]], [6, [1, [], []], [5, [], []]]]\n",
    ">>> print(somme_feuilles(a3))\n",
    "```"
   ]
  },
  {
   "cell_type": "code",
   "execution_count": null,
   "metadata": {},
   "outputs": [],
   "source": [
    "# Your code here"
   ]
  },
  {
   "cell_type": "markdown",
   "metadata": {},
   "source": [
    "## Exercise 3: Given a binary tree, check whether all leaves are at the same level or not.\n",
    "\n",
    "![Tree2](data/tree2.png)\n",
    "\n",
    "- Expected output:\n",
    "\n",
    "```python\n",
    ">>> same_level(T1) \n",
    "False\n",
    ">>> same_level(T2)\n",
    "True\n",
    "```"
   ]
  },
  {
   "cell_type": "code",
   "execution_count": null,
   "metadata": {},
   "outputs": [],
   "source": [
    "# Your code here"
   ]
  }
 ],
 "metadata": {
  "kernelspec": {
   "display_name": "Python 3 (ipykernel)",
   "language": "python",
   "name": "python3"
  },
  "language_info": {
   "codemirror_mode": {
    "name": "ipython",
    "version": 3
   },
   "file_extension": ".py",
   "mimetype": "text/x-python",
   "name": "python",
   "nbconvert_exporter": "python",
   "pygments_lexer": "ipython3",
   "version": "3.10.6"
  }
 },
 "nbformat": 4,
 "nbformat_minor": 4
}
