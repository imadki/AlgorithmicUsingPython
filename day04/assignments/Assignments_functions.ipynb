{
 "cells": [
  {
   "cell_type": "markdown",
   "metadata": {},
   "source": [
    "## Functions exercises "
   ]
  },
  {
   "cell_type": "markdown",
   "metadata": {},
   "source": [
    "### Exercise 1:\n",
    "\n",
    "1- Create a function `compute_power(x,y)` which return $x^y$ using the `**` operator.\n",
    "\n",
    "- Desired output:\n",
    "```Python\n",
    ">>> 2**2\n",
    "4\n",
    ">>> 2**3\n",
    "8\n",
    ">>> 2**4\n",
    "16\n",
    "```\n",
    "\n",
    "2- Compute the $2^i$ (i=0,...,20)."
   ]
  },
  {
   "cell_type": "code",
   "execution_count": 2,
   "metadata": {},
   "outputs": [
    {
     "name": "stdout",
     "output_type": "stream",
     "text": [
      "25\n"
     ]
    }
   ],
   "source": [
    "def compute_power(x,y):\n",
    "    n = x**y\n",
    "    return n\n",
    "y = compute_power(5,2)\n",
    "print(y)\n"
   ]
  },
  {
   "cell_type": "markdown",
   "metadata": {},
   "source": [
    "### Exercise 2:\n",
    "\n",
    "1- Create a function that draw a pyramid with N rows (N given by the user), as below:\n",
    "\n",
    "- Desired output:\n",
    "```Python\n",
    "          *\n",
    "         ***\n",
    "        *****\n",
    "       *******\n",
    "      *********\n",
    "     ***********\n",
    "    *************\n",
    "   ***************\n",
    "  *****************\n",
    "```"
   ]
  },
  {
   "cell_type": "code",
   "execution_count": 3,
   "metadata": {},
   "outputs": [
    {
     "name": "stdout",
     "output_type": "stream",
     "text": [
      "     *\n",
      "    ***\n",
      "   *****\n",
      "  *******\n",
      " *********\n",
      "***********\n",
      "     *\n",
      "    ***\n",
      "   *****\n",
      "  *******\n",
      " *********\n",
      "***********\n"
     ]
    }
   ],
   "source": [
    "def N_pyramid(n):\n",
    "    for i in range(n):\n",
    "        for k in range(n-i-1):\n",
    "                print(\" \",end=\"\")\n",
    "        for j in range(1+2*i):\n",
    "            print(\"*\",end=\"\")\n",
    "        print()\n",
    "        \n",
    "            \n",
    "\n",
    "def pyramid_p(n):\n",
    "    for i in range(n):\n",
    "        print(\" \"*(n-i-1) + 2*i * \"*\" + \"*\")\n",
    "        \n",
    "\n",
    "N_pyramid(6)\n",
    "\n",
    "pyramid_p(6)"
   ]
  },
  {
   "cell_type": "markdown",
   "metadata": {},
   "source": [
    "### Exercise 3:\n",
    "\n",
    "1- Create a function `compute_3D_distance()` which calculate the euclidean distance in 3D between two atoms.\n",
    "\n",
    "2- Test the function using the two vertices $A(0,0,0)$ et $B(1,1,1)$. Do you find $\\sqrt 3$ ?\n",
    "\n",
    "- The euclidean distance between two vertices $A(x_A,y_A,z_A)$ and $A(x_B,y_B,z_B)$ is: $\\sqrt{ \\left( x_B - x_A \\right)^{2} +  \\left( y_B - y_A \\right)^{2} +  \\left( z_B - z_A \\right)^{2}}$\n"
   ]
  },
  {
   "cell_type": "code",
   "execution_count": 4,
   "metadata": {},
   "outputs": [
    {
     "name": "stdout",
     "output_type": "stream",
     "text": [
      "sqrt(3)\n"
     ]
    }
   ],
   "source": [
    "import sympy as sp\n",
    "def compute_3D_distance(A,B):\n",
    "    X_axis = B[0]-A[0] \n",
    "    Y_axis = B[1]-A[1] \n",
    "    Z_axis = B[2]-A[2] \n",
    "    \n",
    "    distance = sp.sqrt(X_axis**2+Y_axis**2+Z_axis**2)\n",
    "    print(distance)\n",
    "\n",
    "𝐴 = (0,0,0) \n",
    "𝐵 = (1,1,1) \n",
    "compute_3D_distance(A,B)\n",
    "    "
   ]
  },
  {
   "cell_type": "markdown",
   "metadata": {},
   "source": [
    "### Exercise 4:\n",
    "\n",
    "1- Write a function `x(n)` for computing an element in the sequence $x_n=n^2+1$. \n",
    "\n",
    "2- Call the function for $n=4$ and write out the result.\n"
   ]
  },
  {
   "cell_type": "code",
   "execution_count": 5,
   "metadata": {},
   "outputs": [
    {
     "name": "stdout",
     "output_type": "stream",
     "text": [
      "17\n"
     ]
    }
   ],
   "source": [
    "def x(n):\n",
    "    print(n**2+1)\n",
    "\n",
    "x(4)"
   ]
  },
  {
   "cell_type": "markdown",
   "metadata": {},
   "source": [
    "### Exercise 5:\n",
    "\n",
    "1- Write a Python function that evaluates the mathematical functions $f(x)=cos(2x)$, $f^\\prime(x)=-2sin(2x)$, and $f\\prime\\prime(x)=-4cos(2x)$. \n",
    "\n",
    "2- Return these three values. Write out the results of these values for $x=\\pi$\n",
    "\n",
    "\n"
   ]
  },
  {
   "cell_type": "code",
   "execution_count": 6,
   "metadata": {},
   "outputs": [
    {
     "name": "stdout",
     "output_type": "stream",
     "text": [
      "1 0 -4\n",
      "4.898587196589413e-16\n"
     ]
    }
   ],
   "source": [
    "import sympy as sp\n",
    "import numpy as np\n",
    "\n",
    "def f(x):\n",
    "    return sp.cos(2*x)\n",
    "\n",
    "def f_prime(x):\n",
    "    return -2*sp.sin(2*x)\n",
    "    \n",
    "def f_seconde(x):\n",
    "    return -4*sp.cos(2*x)\n",
    "\n",
    "f = f(sp.pi)\n",
    "f_prime = f_prime(sp.pi)\n",
    "f_seconde = f_seconde(sp.pi)\n",
    "\n",
    "print(f,f_prime,f_seconde)\n",
    "\n",
    "x=sp.symbols(\"x\")\n",
    "\n",
    "f = sp.cos(2*x)\n",
    "g = f.diff(x)\n",
    "#g.subs(np.pi)\n",
    "\n",
    "print(float(g.subs(x, np.pi)))"
   ]
  },
  {
   "cell_type": "markdown",
   "metadata": {},
   "source": [
    "### Exercise 6:\n",
    "\n",
    "1- Write python function to solve $ax^2+bx+c=0$.  (a, b, c are given by the user).\n",
    "\n"
   ]
  },
  {
   "cell_type": "code",
   "execution_count": 7,
   "metadata": {},
   "outputs": [
    {
     "name": "stdout",
     "output_type": "stream",
     "text": [
      "a = 1\n",
      "b = 4\n",
      "c = 15\n",
      "There is no reel solution to the equation .\n"
     ]
    }
   ],
   "source": [
    "def solve_quadratic_eq(a,b,c):\n",
    "    a = float(a)\n",
    "    b = float(b)\n",
    "    c = float(c)\n",
    "    delta = b**2 - 4*a*c\n",
    "    if delta < 0:\n",
    "        print(\"There is no reel solution to the equation .\")\n",
    "    elif delta == 0 :\n",
    "        X = (-b)//(2*a)\n",
    "        print(\"The only real Solution is : \", X)\n",
    "    else : \n",
    "        x1 = (-b + delta)/2*a\n",
    "        x2 = (-b - delta)/2*a\n",
    "        print(\"The two real solutions are : \", x1 , \"and\" , x2)\n",
    "        \n",
    "a,b,c = input('a = ') ,input('b = ') , input('c = ') \n",
    "solve_quadratic_eq(a,b,c)"
   ]
  },
  {
   "cell_type": "markdown",
   "metadata": {},
   "source": [
    "### Exercise 7:\n",
    "\n",
    "- Monte Carlo methods are a broad class of computational algorithms that rely on repeated random sampling to obtain numerical results. \n",
    "- One of the basic examples of getting started with the Monte Carlo algorithm is the estimation of Pi.\n",
    "\n",
    "## Estimation of Pi\n",
    "- The idea is to simulate random (x, y) points in a 2-D plane with domain as a square of side 1 unit. \n",
    "- Imagine a circle inside the same domain with same diameter and inscribed into the square. \n",
    "- We then calculate the ratio of number points that lied inside the circle and total number of generated points. \n",
    "- Refer to the image below:\n",
    "\n",
    "![demo](figures/MonteCarloPlot.png)\n",
    "\n",
    "\n",
    "\n",
    "## The Algorithm\n",
    "\n",
    "1. Initialize circle_points, square_points and interval to 0.\n",
    "2. Generate random point x.\n",
    "3. Generate random point y.\n",
    "4. Calculate d = x*x + y*y.\n",
    "5. If d <= 1, increment circle_points.\n",
    "6. Increment square_points.\n",
    "7. Increment interval.\n",
    "8. If increment < NO_OF_ITERATIONS, repeat from 2.\n",
    "9. Calculate pi = 4*(circle_points/square_points).\n",
    "10. Terminate.\n",
    "\n"
   ]
  },
  {
   "cell_type": "code",
   "execution_count": 3,
   "metadata": {},
   "outputs": [
    {
     "name": "stdout",
     "output_type": "stream",
     "text": [
      "5454\n",
      "3.158049138247158\n"
     ]
    }
   ],
   "source": [
    "from random import uniform\n",
    "from math import sqrt\n",
    "def Monte_carlo(N):\n",
    "    Dots_in = 0 \n",
    "    for i in range(N):\n",
    "        x = uniform(-1.0,1.0)\n",
    "        y = uniform(-1.0,1.0)\n",
    "        \n",
    "        d = sqrt(x*x + y*y)\n",
    "        if d <= 1: \n",
    "            Dots_in += 1\n",
    "    return Dots_in\n",
    "\n",
    "Square_Dots = int(input())\n",
    "circle_Dots = int(Monte_carlo(Square_Dots))\n",
    "\n",
    "pi = 4*(circle_Dots/Square_Dots)\n",
    "print(pi)\n",
    "        \n",
    "        "
   ]
  },
  {
   "cell_type": "code",
   "execution_count": 11,
   "metadata": {},
   "outputs": [
    {
     "name": "stdout",
     "output_type": "stream",
     "text": [
      "Defaulting to user installation because normal site-packages is not writeable\n",
      "Collecting random2\n",
      "  Downloading random2-1.0.1.zip (21 kB)\n",
      "  Preparing metadata (setup.py) ... \u001b[?25ldone\n",
      "\u001b[?25hBuilding wheels for collected packages: random2\n",
      "  Building wheel for random2 (setup.py) ... \u001b[?25ldone\n",
      "\u001b[?25h  Created wheel for random2: filename=random2-1.0.1-py3-none-any.whl size=12062 sha256=3838d4a9be4c01adfe76a5324ba83f498ccfe6b8751d59614b97f80ad758c396\n",
      "  Stored in directory: /home/dynabook/.cache/pip/wheels/61/1f/84/8713326a151c1638e7a00202e4074b46e839d22b7d22f8400f\n",
      "Successfully built random2\n",
      "Installing collected packages: random2\n",
      "Successfully installed random2-1.0.1\n",
      "Note: you may need to restart the kernel to use updated packages.\n"
     ]
    }
   ],
   "source": []
  },
  {
   "cell_type": "code",
   "execution_count": null,
   "metadata": {},
   "outputs": [],
   "source": []
  }
 ],
 "metadata": {
  "kernelspec": {
   "display_name": "Python 3 (ipykernel)",
   "language": "python",
   "name": "python3"
  },
  "language_info": {
   "codemirror_mode": {
    "name": "ipython",
    "version": 3
   },
   "file_extension": ".py",
   "mimetype": "text/x-python",
   "name": "python",
   "nbconvert_exporter": "python",
   "pygments_lexer": "ipython3",
   "version": "3.10.6"
  }
 },
 "nbformat": 4,
 "nbformat_minor": 4
}
