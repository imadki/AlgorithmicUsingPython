{
 "cells": [
  {
   "cell_type": "code",
   "execution_count": 19,
   "id": "e7d326c7",
   "metadata": {},
   "outputs": [],
   "source": [
    "def q(n:int) -> int:\n",
    "    f = 1\n",
    "    for i in range(1,n+1):\n",
    "        f = f * i\n",
    "    return f \n"
   ]
  },
  {
   "cell_type": "code",
   "execution_count": 20,
   "id": "3ebbd3e3",
   "metadata": {},
   "outputs": [
    {
     "name": "stdout",
     "output_type": "stream",
     "text": [
      "120\n"
     ]
    }
   ],
   "source": [
    "a = q(5)\n",
    "print(a)"
   ]
  },
  {
   "cell_type": "code",
   "execution_count": 46,
   "id": "05cfbd98",
   "metadata": {},
   "outputs": [],
   "source": [
    "def expo(n):\n",
    "    e = 1\n",
    "    f = 1\n",
    "    for i in range(1,n) :\n",
    "        f = f*i\n",
    "        e = e + (1 / f)\n",
    "    return e\n",
    "    \n"
   ]
  },
  {
   "cell_type": "code",
   "execution_count": null,
   "id": "fbf78439",
   "metadata": {},
   "outputs": [],
   "source": [
    "def check_epsilon(n )  : \n",
    "    e1 = expo(n)\n",
    "    e2 = expo(n+1)\n",
    "    while (e1 - e2) > (1/10**5) : \n",
    "        n = n+1\n",
    "        check_epsilon(n)\n",
    "    print(e1)\n",
    "        \n",
    "        \n",
    "        "
   ]
  },
  {
   "cell_type": "code",
   "execution_count": 65,
   "id": "846d14aa",
   "metadata": {},
   "outputs": [
    {
     "name": "stdout",
     "output_type": "stream",
     "text": [
      "2.7182818282861687\n"
     ]
    }
   ],
   "source": []
  },
  {
   "cell_type": "code",
   "execution_count": 74,
   "id": "06f04a51",
   "metadata": {},
   "outputs": [],
   "source": [
    "def expo(k):\n",
    "    e = 1\n",
    "    f = 1\n",
    "    for i in range(1,k) :\n",
    "        f = f*i\n",
    "        e = e + (1 / f)\n",
    "    return e\n"
   ]
  },
  {
   "cell_type": "code",
   "execution_count": 75,
   "id": "fd2334c8",
   "metadata": {},
   "outputs": [],
   "source": [
    "def epsilon(e1,e2):\n",
    "    if e2-e1 > (1/10**5):\n",
    "        return False\n",
    "    else : \n",
    "        return True"
   ]
  },
  {
   "cell_type": "code",
   "execution_count": 78,
   "id": "ac73a0ec",
   "metadata": {},
   "outputs": [
    {
     "name": "stdout",
     "output_type": "stream",
     "text": [
      "2.7182818284590455\n"
     ]
    }
   ],
   "source": [
    "k = 1000\n",
    "\n",
    "e1 = expo(k-1)\n",
    "e2 = expo(k)\n",
    "\n",
    "while epsilon(e1,e2) == False:\n",
    "    e1 = expo(k)\n",
    "    e2 = expo(k+1)\n",
    "    epsilon(e1,e2)\n",
    "    k = k + 1\n",
    "print(e1)\n",
    "    \n",
    "    \n",
    "    \n",
    "    \n",
    "    "
   ]
  },
  {
   "cell_type": "code",
   "execution_count": null,
   "id": "8818b9ee",
   "metadata": {},
   "outputs": [],
   "source": []
  }
 ],
 "metadata": {
  "kernelspec": {
   "display_name": "Python 3 (ipykernel)",
   "language": "python",
   "name": "python3"
  },
  "language_info": {
   "codemirror_mode": {
    "name": "ipython",
    "version": 3
   },
   "file_extension": ".py",
   "mimetype": "text/x-python",
   "name": "python",
   "nbconvert_exporter": "python",
   "pygments_lexer": "ipython3",
   "version": "3.10.6"
  }
 },
 "nbformat": 4,
 "nbformat_minor": 5
}
