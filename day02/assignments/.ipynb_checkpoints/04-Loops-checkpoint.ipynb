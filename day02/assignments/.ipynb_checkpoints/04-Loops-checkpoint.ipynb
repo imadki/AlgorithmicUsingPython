{
 "cells": [
  {
   "cell_type": "markdown",
   "id": "08d7d2f3",
   "metadata": {},
   "source": [
    "## Loops\n",
    "### 1. Suppose that l=[1,10,11,16,3,5,16,25,23]"
   ]
  },
  {
   "cell_type": "markdown",
   "id": "50142989",
   "metadata": {},
   "source": [
    "### Exercise 1: \n",
    "\n",
    "#### Print the values and indices of the list.\n",
    "\n",
    "- Output:\n",
    "```python\n",
    "0 1\n",
    "1 10\n",
    "2 11\n",
    "3 16\n",
    "4 3\n",
    "5 5\n",
    "6 16\n",
    "7 25\n",
    "8 23\n",
    "```"
   ]
  },
  {
   "cell_type": "code",
   "execution_count": 1,
   "id": "c9fbbe45",
   "metadata": {},
   "outputs": [
    {
     "name": "stdout",
     "output_type": "stream",
     "text": [
      "0 1\n",
      "1 10\n",
      "2 11\n",
      "3 16\n",
      "4 3\n",
      "5 5\n",
      "6 16\n",
      "7 25\n",
      "8 23\n"
     ]
    }
   ],
   "source": [
    "l=[1,10,11,16,3,5,16,25,23]\n",
    "for i in range(len(l)):\n",
    "    print(i, l[i])"
   ]
  },
  {
   "cell_type": "markdown",
   "id": "7fef3471",
   "metadata": {},
   "source": [
    "### Exercise 2: \n",
    "\n",
    "#### Print the odd numbers of the list.\n",
    "\n",
    "- Output\n",
    "```python\n",
    "1\n",
    "11\n",
    "3\n",
    "5\n",
    "25\n",
    "23\n",
    "```"
   ]
  },
  {
   "cell_type": "code",
   "execution_count": 2,
   "id": "20be687a",
   "metadata": {},
   "outputs": [
    {
     "name": "stdout",
     "output_type": "stream",
     "text": [
      "1\n",
      "11\n",
      "3\n",
      "5\n",
      "25\n",
      "23\n"
     ]
    }
   ],
   "source": [
    "for i in range(len(l)):\n",
    "    if l[i]%2==1:\n",
    "        print(l[i])\n",
    "        "
   ]
  },
  {
   "cell_type": "markdown",
   "id": "39898e47",
   "metadata": {},
   "source": [
    "### Exersise 3: \n",
    "\n",
    "#### Compute the sum of the list.\n",
    "\n",
    "- Output\n",
    "```python\n",
    "s = 110\n",
    "```"
   ]
  },
  {
   "cell_type": "code",
   "execution_count": 3,
   "id": "ed38f5b6",
   "metadata": {},
   "outputs": [
    {
     "name": "stdout",
     "output_type": "stream",
     "text": [
      "110\n"
     ]
    }
   ],
   "source": [
    "s = 0\n",
    "for i in range(len(l)):\n",
    "    s += l[i]\n",
    "print(s)"
   ]
  },
  {
   "cell_type": "markdown",
   "id": "b8993ae7",
   "metadata": {},
   "source": [
    "### Exercise 4: \n",
    "\n",
    "#### Calculate the cube of all numbers of the list.\n",
    "\n",
    "- Output\n",
    "```python\n",
    "1\n",
    "100\n",
    "121\n",
    "256\n",
    "9\n",
    "25\n",
    "256\n",
    "625\n",
    "529\n",
    "```"
   ]
  },
  {
   "cell_type": "code",
   "execution_count": 5,
   "id": "6c2c7e1a",
   "metadata": {},
   "outputs": [
    {
     "name": "stdout",
     "output_type": "stream",
     "text": [
      "1\n",
      "100\n",
      "121\n",
      "256\n",
      "9\n",
      "25\n",
      "256\n",
      "625\n",
      "529\n"
     ]
    }
   ],
   "source": [
    "for i in range(len(l)):\n",
    "    print(l[i]**2)"
   ]
  },
  {
   "cell_type": "markdown",
   "id": "34801abd",
   "metadata": {},
   "source": [
    "### Exercise 5: \n",
    "\n",
    "#### Calculate the cube of all numbers of the list.\n",
    "\n",
    "- Output\n",
    "```python\n",
    "1\n",
    "100\n",
    "121\n",
    "256\n",
    "9\n",
    "25\n",
    "256\n",
    "625\n",
    "529\n",
    "```"
   ]
  },
  {
   "cell_type": "code",
   "execution_count": 10,
   "id": "f736ec5f",
   "metadata": {},
   "outputs": [],
   "source": [
    "for i in range(len(l)):\n",
    "    print(l[i]**3)"
   ]
  },
  {
   "cell_type": "markdown",
   "id": "5e26799a",
   "metadata": {},
   "source": [
    "### Exercise 6: \n",
    "\n",
    "#### Calculate the cube of all numbers of the list.\n",
    "\n",
    "- Output\n",
    "```python\n",
    "1\n",
    "100\n",
    "121\n",
    "256\n",
    "9\n",
    "25\n",
    "256\n",
    "625\n",
    "529\n",
    "```"
   ]
  },
  {
   "cell_type": "code",
   "execution_count": 10,
   "id": "123ba1f0",
   "metadata": {},
   "outputs": [],
   "source": [
    "for i in range(len(l)):\n",
    "    print(l[i]**2)"
   ]
  },
  {
   "cell_type": "markdown",
   "id": "3253ffde",
   "metadata": {},
   "source": [
    "### Exercise 7: \n",
    "\n",
    "#### Calculate the cube of all numbers of the list.\n",
    "\n",
    "- Output\n",
    "```python\n",
    "1\n",
    "100\n",
    "121\n",
    "256\n",
    "9\n",
    "25\n",
    "256\n",
    "625\n",
    "529\n",
    "```"
   ]
  },
  {
   "cell_type": "code",
   "execution_count": 10,
   "id": "34a6946a",
   "metadata": {},
   "outputs": [],
   "source": [
    "for i in range(len(l)):\n",
    "    print(l[i]**2)"
   ]
  },
  {
   "cell_type": "markdown",
   "id": "e1084b1a",
   "metadata": {},
   "source": [
    "### 2. Suppose that M=[[1,3,5], [9,13,4], [8,4,1], [10,31,15]]\n",
    "### Exercise 1: \n",
    "\n",
    "#### Print the indices and values of the list.\n",
    "\n",
    "- Output\n",
    "```python\n",
    "0 0 1\n",
    "0 1 3\n",
    "0 2 5\n",
    "1 0 9\n",
    "1 1 13\n",
    "1 2 4\n",
    "2 0 8\n",
    "2 1 4\n",
    "2 2 1\n",
    "3 0 10\n",
    "3 1 31\n",
    "3 2 15\n",
    "```"
   ]
  },
  {
   "cell_type": "code",
   "execution_count": 9,
   "id": "53a40957",
   "metadata": {},
   "outputs": [
    {
     "name": "stdout",
     "output_type": "stream",
     "text": [
      "0 0 1\n",
      "0 1 3\n",
      "0 2 5\n",
      "1 0 9\n",
      "1 1 13\n",
      "1 2 4\n",
      "2 0 8\n",
      "2 1 4\n",
      "2 2 1\n",
      "3 0 10\n",
      "3 1 31\n",
      "3 2 15\n"
     ]
    }
   ],
   "source": [
    "M=[[1,3,5],\n",
    "   [9,13,4],\n",
    "   [8,4,1], \n",
    "   [10,31,15]]\n",
    "\n",
    "for i in range(len(M)) :\n",
    "    for j in range(len(M[i])): \n",
    "        print(i,j,M[i][j])"
   ]
  },
  {
   "cell_type": "markdown",
   "id": "df75c7ad",
   "metadata": {},
   "source": [
    "### Exercise 2: \n",
    "\n",
    "#### Print the even numbers of the list.\n",
    "\n",
    "- Output\n",
    "```python\n",
    "4\n",
    "8\n",
    "4\n",
    "10\n",
    "```"
   ]
  },
  {
   "cell_type": "code",
   "execution_count": 10,
   "id": "189a1229",
   "metadata": {},
   "outputs": [
    {
     "name": "stdout",
     "output_type": "stream",
     "text": [
      "4\n",
      "8\n",
      "4\n",
      "10\n"
     ]
    }
   ],
   "source": [
    "for i in range(len(M)) :\n",
    "    for j in range(len(M[i])): \n",
    "        if M[i][j]%2==0:\n",
    "            print(M[i][j])"
   ]
  },
  {
   "cell_type": "markdown",
   "id": "4ec3ef5d",
   "metadata": {},
   "source": [
    "### Exercise 3: \n",
    "\n",
    "#### Compute the sum of odd numbers.\n",
    "\n",
    "- Output\n",
    "```python\n",
    "s = 78\n",
    "```"
   ]
  },
  {
   "cell_type": "code",
   "execution_count": 11,
   "id": "66620729",
   "metadata": {},
   "outputs": [
    {
     "name": "stdout",
     "output_type": "stream",
     "text": [
      "78\n"
     ]
    }
   ],
   "source": [
    "s = 0\n",
    "for i in range(len(M)) :\n",
    "    for j in range(len(M[i])): \n",
    "        if M[i][j]%2==1:\n",
    "            s += M[i][j]\n",
    "print(s)        "
   ]
  },
  {
   "cell_type": "code",
   "execution_count": null,
   "id": "0be84953",
   "metadata": {},
   "outputs": [],
   "source": []
  },
  {
   "cell_type": "code",
   "execution_count": null,
   "id": "71ccc992",
   "metadata": {},
   "outputs": [],
   "source": []
  }
 ],
 "metadata": {
  "kernelspec": {
   "display_name": "Python 3 (ipykernel)",
   "language": "python",
   "name": "python3"
  },
  "language_info": {
   "codemirror_mode": {
    "name": "ipython",
    "version": 3
   },
   "file_extension": ".py",
   "mimetype": "text/x-python",
   "name": "python",
   "nbconvert_exporter": "python",
   "pygments_lexer": "ipython3",
   "version": "3.10.6"
  }
 },
 "nbformat": 4,
 "nbformat_minor": 5
}
