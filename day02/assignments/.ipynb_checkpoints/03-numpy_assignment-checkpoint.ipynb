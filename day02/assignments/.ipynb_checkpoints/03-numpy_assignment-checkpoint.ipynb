{
 "cells": [
  {
   "cell_type": "markdown",
   "metadata": {},
   "source": [
    "# Exercises for Numpy"
   ]
  },
  {
   "cell_type": "markdown",
   "metadata": {},
   "source": [
    "1- Import numpy as `np` and print the version number. "
   ]
  },
  {
   "cell_type": "code",
   "execution_count": 1,
   "metadata": {},
   "outputs": [],
   "source": [
    "import numpy as np"
   ]
  },
  {
   "cell_type": "markdown",
   "metadata": {},
   "source": [
    "2- Create a 1D array of numbers from 0 to 9 \n",
    "- Desired output:\n",
    "```Python\n",
    "#> array([0, 1, 2, 3, 4, 5, 6, 7, 8, 9])\n",
    "```"
   ]
  },
  {
   "cell_type": "code",
   "execution_count": null,
   "metadata": {},
   "outputs": [],
   "source": [
    "a = np.array(range(10))"
   ]
  },
  {
   "cell_type": "markdown",
   "metadata": {},
   "source": [
    "3- Create a 3×3 numpy array of all True’s\n",
    "- Desired output:\n",
    "```Python\n",
    "#> array([[ True,  True,  True],\n",
    "#>        [ True,  True,  True],\n",
    "#>        [ True,  True,  True]], dtype=bool)\n",
    "```"
   ]
  },
  {
   "cell_type": "code",
   "execution_count": null,
   "metadata": {},
   "outputs": [],
   "source": [
    "a = np.full((3,3), True)"
   ]
  },
  {
   "cell_type": "markdown",
   "metadata": {},
   "source": [
    "4- Extract all odd numbers from `arr` \n",
    "- Input:\n",
    "```Python\n",
    "#> arr = np.array([0, 1, 2, 3, 4, 5, 6, 7, 8, 9])\n",
    "```\n",
    "- Desired output:\n",
    "```Python\n",
    "#> array([1, 3, 5, 7, 9])\n",
    "```"
   ]
  },
  {
   "cell_type": "code",
   "execution_count": null,
   "metadata": {},
   "outputs": [],
   "source": [
    "arr = np.array(range(10))\n",
    "\n",
    "a = np.array(arr[arr%2 == 1])"
   ]
  },
  {
   "cell_type": "markdown",
   "metadata": {},
   "source": [
    "5- Replace all odd numbers in arr with -1\n",
    "- Input:\n",
    "```Python\n",
    "#> arr = np.array([0, 1, 2, 3, 4, 5, 6, 7, 8, 9])\n",
    "```\n",
    "- Desired output:\n",
    "```Python\n",
    "#>  array([ 0, -1,  2, -1,  4, -1,  6, -1,  8, -1])\n",
    "```"
   ]
  },
  {
   "cell_type": "code",
   "execution_count": null,
   "metadata": {},
   "outputs": [],
   "source": [
    "arr = np.array(range(10))\n",
    "arr[arr % 2 == 1] = -1"
   ]
  },
  {
   "cell_type": "markdown",
   "metadata": {},
   "source": [
    "6- Replace all odd numbers in arr with -1 without changing `arr` \n",
    "- Input:\n",
    "```Python\n",
    "#> arr = np.array([0, 1, 2, 3, 4, 5, 6, 7, 8, 9])\n",
    "```\n",
    "- Desired output:\n",
    "```Python\n",
    "out\n",
    "#>  array([ 0, -1,  2, -1,  4, -1,  6, -1,  8, -1])\n",
    "arr\n",
    "#>  array([0, 1, 2, 3, 4, 5, 6, 7, 8, 9])\n",
    "```"
   ]
  },
  {
   "cell_type": "code",
   "execution_count": null,
   "metadata": {},
   "outputs": [],
   "source": [
    "arr = np.array(range(10))\n",
    "a = np.array([-1 if i % 2 == 1 else i for i in arr])"
   ]
  },
  {
   "cell_type": "markdown",
   "metadata": {},
   "source": [
    "7- Convert a 1D array to a 2D array with 2 rows\n",
    "- Input:\n",
    "```Python\n",
    "#> arr = np.array([0, 1, 2, 3, 4, 5, 6, 7, 8, 9])\n",
    "```\n",
    "- Desired output:\n",
    "```Python\n",
    "#> array([[0, 1, 2, 3, 4],\n",
    "#>        [5, 6, 7, 8, 9]])\n",
    "```"
   ]
  },
  {
   "cell_type": "code",
   "execution_count": null,
   "metadata": {},
   "outputs": [],
   "source": [
    "arr = np.array(range(10))\n",
    "\n",
    "arr = arr.reshape(2,-1)\n",
    "\n",
    "print(arr)"
   ]
  },
  {
   "cell_type": "markdown",
   "metadata": {},
   "source": [
    "8- Stack arrays `a` and `b` vertically \n",
    "- Input\n",
    "```Python\n",
    "a = np.arange(10).reshape(2,-1)\n",
    "b = np.repeat(1, 10).reshape(2,-1)\n",
    "```\n",
    "- Desired output:\n",
    "```Python\n",
    "#> array([[0, 1, 2, 3, 4],\n",
    "#>        [5, 6, 7, 8, 9],\n",
    "#>        [1, 1, 1, 1, 1],\n",
    "#>        [1, 1, 1, 1, 1]])\n",
    "```"
   ]
  },
  {
   "cell_type": "code",
   "execution_count": null,
   "metadata": {},
   "outputs": [],
   "source": [
    "a = np.arange(10).reshape(2,-1)\n",
    "b = np.repeat(1, 10).reshape(2,-1)\n",
    "\n",
    "stack = np.vstack((a,b))\n"
   ]
  },
  {
   "cell_type": "markdown",
   "metadata": {},
   "source": [
    "9- Stack the arrays a and b horizontally.\n",
    "- Input\n",
    "```Python\n",
    "a = np.arange(10).reshape(2,-1)\n",
    "b = np.repeat(1, 10).reshape(2,-1)\n",
    "```\n",
    "- Desired output:\n",
    "```Python\n",
    "#> array([[0, 1, 2, 3, 4, 1, 1, 1, 1, 1],\n",
    "#>        [5, 6, 7, 8, 9, 1, 1, 1, 1, 1]])\n",
    "```"
   ]
  },
  {
   "cell_type": "code",
   "execution_count": null,
   "metadata": {},
   "outputs": [],
   "source": [
    "a = np.arange(10).reshape(2,-1)\n",
    "b = np.repeat(1, 10).reshape(2,-1)\n",
    "output = np.hstack((a,b))"
   ]
  },
  {
   "cell_type": "markdown",
   "metadata": {},
   "source": [
    "10- Get the common items between `a` and `b` \n",
    "- Input\n",
    "```Python\n",
    "a = np.array([1,2,3,4,5])\n",
    "b = np.array([5,6,7,8,9])\n",
    "```\n",
    "- Desired output:\n",
    "```Python\n",
    "#> array([2, 4])\n",
    "```"
   ]
  },
  {
   "cell_type": "code",
   "execution_count": null,
   "metadata": {},
   "outputs": [],
   "source": [
    "a = np.array([1,2,3,4,5])\n",
    "b = np.array([5,6,7,8,9])\n",
    "\n",
    "output = np.intersect1d(a,b)"
   ]
  },
  {
   "cell_type": "markdown",
   "metadata": {},
   "source": [
    "11- From array `a` remove all items present in array `b` \n",
    "- Input\n",
    "```Python\n",
    "a = np.array([1,2,3,4,5])\n",
    "b = np.array([5,6,7,8,9])\n",
    "```\n",
    "- Desired output:\n",
    "```Python\n",
    "#> array([1,2,3,4])\n",
    "```"
   ]
  },
  {
   "cell_type": "code",
   "execution_count": null,
   "metadata": {},
   "outputs": [],
   "source": [
    "a = np.array([1,2,3,4,5])\n",
    "b = np.array([5,6,7,8,9])\n",
    "\n",
    "np.delete(a, np.where(a == np.intersect1d(a, b)))\n",
    "\n",
    "print(a)"
   ]
  },
  {
   "cell_type": "markdown",
   "metadata": {},
   "source": [
    "12- Get the positions where elements of `a` and `b` match\n",
    "- Input\n",
    "```Python\n",
    "a = np.array([1,2,3,2,3,4,3,4,5,6])\n",
    "b = np.array([7,2,10,2,7,4,9,4,9,8])\n",
    "```\n",
    "- Desired output:\n",
    "```Python\n",
    "#> (array([1, 3, 5, 7]),)\n",
    "```"
   ]
  },
  {
   "cell_type": "code",
   "execution_count": null,
   "metadata": {},
   "outputs": [],
   "source": [
    "a = np.array([1,2,3,2,3,4,3,4,5,6])\n",
    "b = np.array([7,2,10,2,7,4,9,4,9,8])\n",
    "\n",
    "c = np.array(np.where(a == b))"
   ]
  },
  {
   "cell_type": "markdown",
   "metadata": {},
   "source": [
    "13- Get all items between 5 and 10 from `a`\n",
    "- Input\n",
    "```Python\n",
    "a = np.array([2, 6, 1, 9, 10, 3, 27])\n",
    "```\n",
    "- Desired output:\n",
    "```Python\n",
    "#> (array([6, 9, 10]),)\n",
    "```"
   ]
  },
  {
   "cell_type": "code",
   "execution_count": null,
   "metadata": {},
   "outputs": [],
   "source": [
    "a = np.array([2, 6, 1, 9, 10, 3, 27])\n",
    "\n",
    "c = np.array(a[np.where((5 <= a) & (a <= 10))])"
   ]
  },
  {
   "cell_type": "markdown",
   "metadata": {},
   "source": [
    "14- Convert the function `maxx` that works on two scalars, to work on two arrays\n",
    "- Input\n",
    "```Python\n",
    "def maxx(x, y):\n",
    "    \"\"\"Get the maximum of two items\"\"\"\n",
    "    if x >= y:\n",
    "        return x\n",
    "    else:\n",
    "        return y\n",
    "```\n",
    "```Python\n",
    "maxx(1, 5)\n",
    "#> 5\n",
    "```\n",
    "\n",
    "- Desired output:\n",
    "\n",
    "```Python\n",
    "a = np.array([5, 7, 9, 8, 6, 4, 5])\n",
    "b = np.array([6, 3, 4, 8, 9, 7, 1])\n",
    "pair_max(a, b)\n",
    "#> array([ 6.,  7.,  9.,  8.,  9.,  7.,  5.])\n",
    "```"
   ]
  },
  {
   "cell_type": "code",
   "execution_count": null,
   "metadata": {},
   "outputs": [],
   "source": [
    "a = np.array([5, 7, 9, 8, 6, 4, 5])\n",
    "b = np.array([6, 3, 4, 8, 9, 7, 1])\n",
    "def maxx(x, y):\n",
    "    \"\"\"Get the maximum of two items\"\"\"\n",
    "    if x >= y:\n",
    "        return x\n",
    "    else:\n",
    "        return y\n",
    "\n",
    "def pair_max(x, y):\n",
    "    c = np.maximum(a, b)\n",
    "    return c\n",
    "pair_max(a, b)"
   ]
  },
  {
   "cell_type": "markdown",
   "metadata": {},
   "source": [
    "15- Reverse the rows of a 2D array `arr`\n",
    "- Input\n",
    "```Python\n",
    "arr = np.arange(9).reshape(3,3)\n",
    "```\n",
    "- Desired output:\n",
    "```Python\n",
    "#> array([[6, 7, 8],\n",
    "#>       [3, 4, 5],\n",
    "#>       [0, 1, 2]])\n",
    "```"
   ]
  },
  {
   "cell_type": "code",
   "execution_count": 14,
   "metadata": {},
   "outputs": [],
   "source": [
    "arr = np.arange(9).reshape(3,3)\n",
    "\n",
    "np.flipud(arr)"
   ]
  },
  {
   "cell_type": "markdown",
   "metadata": {},
   "source": [
    "16- Reverse the columns of a 2D array `arr`\n",
    "- Input\n",
    "```Python\n",
    "arr = np.arange(9).reshape(3,3)\n",
    "```\n",
    "- Desired output:\n",
    "```Python\n",
    "#> array([[6, 7, 8],\n",
    "#>       [3, 4, 5],\n",
    "#>       [0, 1, 2]]\n",
    "```"
   ]
  },
  {
   "cell_type": "code",
   "execution_count": 109,
   "metadata": {},
   "outputs": [],
   "source": [
    "arr = np.arange(9).reshape(3,3)\n",
    "\n",
    "np.fliplr(arr)"
   ]
  },
  {
   "cell_type": "markdown",
   "metadata": {},
   "source": [
    "17- Create a 2D array of shape 5×3 to contain random decimal numbers between 5 and 10 (use `np.random.seed()` to generate the same random output).\n",
    "- Desired output: (for seed number equal 10)\n",
    "```Python\n",
    "#> array([[6.15037787, 9.68381843, 5.81660184],\n",
    "#>       [6.33607158, 8.89081653, 9.19812181],\n",
    "#>       [6.03061665, 5.87761494, 6.72743551],\n",
    "#>       [7.54088093, 5.13145815, 6.41366737],\n",
    "#>       [5.77872881, 7.58390137, 5.18263144]])\n",
    "```"
   ]
  },
  {
   "cell_type": "code",
   "execution_count": 33,
   "metadata": {},
   "outputs": [],
   "source": [
    "arr = np.random.uniform(5, 10, (5,3))\n",
    "arr"
   ]
  },
  {
   "cell_type": "markdown",
   "metadata": {},
   "source": [
    "18- Print or show only 3 decimal places of the numpy array `rand_arr`\n",
    "- Input\n",
    "```Python\n",
    "rand_arr = np.random.random((5,3))\n",
    "```\n",
    "- Desired output:\n",
    "```Python\n",
    "rand_arr[:4]\n",
    "#> array([[ 0.443,  0.109,  0.97 ],\n",
    "#>        [ 0.388,  0.447,  0.191],\n",
    "#>        [ 0.891,  0.474,  0.212],\n",
    "#>        [ 0.609,  0.518,  0.403]])\n",
    "```"
   ]
  },
  {
   "cell_type": "code",
   "execution_count": 34,
   "metadata": {},
   "outputs": [],
   "source": [
    "np.set_printoptions(precision=3)\n",
    "rand_arr = np.random.random((5,3))\n",
    "arr"
   ]
  },
  {
   "cell_type": "markdown",
   "metadata": {},
   "source": [
    "19- Pretty print `rand_arr` by suppressing the scientific notation (like 1e10) \n",
    "- Input\n",
    "\n",
    "```Python\n",
    "# Create the random array\n",
    "np.random.seed(100)\n",
    "rand_arr = np.random.random([3,3])/1e3\n",
    "```\n",
    "```Python\n",
    "rand_arr\n",
    "\n",
    "#> array([[  5.434049e-04,   2.783694e-04,   4.245176e-04],\n",
    "#>        [  8.447761e-04,   4.718856e-06,   1.215691e-04],\n",
    "#>        [  6.707491e-04,   8.258528e-04,   1.367066e-04]])\n",
    "```\n",
    "\n",
    "- Desired output:\n",
    "```python\n",
    "#> array([[ 0.000543,  0.000278,  0.000425],\n",
    "#>        [ 0.000845,  0.000005,  0.000122],\n",
    "#>        [ 0.000671,  0.000826,  0.000137]])\n",
    "```"
   ]
  },
  {
   "cell_type": "code",
   "execution_count": 35,
   "metadata": {},
   "outputs": [],
   "source": [
    "np.random.seed(100)\n",
    "rand_arr = np.random.random([3,3])/1e3\n",
    "np.set_printoptions(precision=6,suppress=True)\n",
    "rand_arr"
   ]
  },
  {
   "cell_type": "markdown",
   "metadata": {},
   "source": [
    "20- Limit the number of items printed in python numpy array a to a maximum of 6 elements.\n",
    "- Input:\n",
    "```Python\n",
    "a = np.arange(15)\n",
    "#> array([ 0,  1,  2,  3,  4,  5,  6,  7,  8,  9, 10, 11, 12, 13, 14])\n",
    "```\n",
    "- Desired output:\n",
    "```Python\n",
    "#> array([ 0,  1,  2, ..., 12, 13, 14])\n",
    "```"
   ]
  },
  {
   "cell_type": "code",
   "execution_count": 36,
   "metadata": {},
   "outputs": [],
   "source": [
    "a = np.arange(15)\n",
    "np.set_printoptions(threshold=len(a)-1)\n",
    "print(a)"
   ]
  },
  {
   "cell_type": "markdown",
   "metadata": {},
   "source": [
    "21- Convert the 1D iris to 2D array iris_2d by omitting the species text field.\n",
    "- Input:\n",
    "```Python\n",
    "url = 'https://archive.ics.uci.edu/ml/machine-learning-databases/iris/iris.data'\n",
    "iris_1d = np.genfromtxt(url, delimiter=',', dtype=None)\n",
    "```\n",
    "- Desired output:\n",
    "```Python\n",
    "#> array([[ 5.1,  3.5,  1.4,  0.2],\n",
    "#>        [ 4.9,  3. ,  1.4,  0.2],\n",
    "#>        [ 4.7,  3.2,  1.3,  0.2],\n",
    "#>        [ 4.6,  3.1,  1.5,  0.2]])\n",
    "```"
   ]
  },
  {
   "cell_type": "code",
   "execution_count": 38,
   "metadata": {},
   "outputs": [],
   "source": []
  },
  {
   "cell_type": "markdown",
   "metadata": {},
   "source": [
    "22- Find the mean, median, standard deviation of iris's sepallength (1st column)\n",
    "- Input:\n",
    "```Python\n",
    "url = 'https://archive.ics.uci.edu/ml/machine-learning-databases/iris/iris.data'\n",
    "iris = np.genfromtxt(url, delimiter=',', dtype='object')\n",
    "```\n",
    "- Desired output:\n",
    "```Python\n",
    "print(mean, median, sd)\n",
    "#> 5.84333333333 5.8 0.825301291785\n",
    "```"
   ]
  },
  {
   "cell_type": "code",
   "execution_count": 36,
   "metadata": {},
   "outputs": [],
   "source": [
    "# Your code here"
   ]
  },
  {
   "cell_type": "markdown",
   "metadata": {},
   "source": [
    "23- Create a normalized form of iris‘s sepallength whose values range exactly between 0 and 1 so that the minimum has value 0 and maximum has value 1.\n",
    "- Input:\n",
    "```Python\n",
    "url = 'https://archive.ics.uci.edu/ml/machine-learning-databases/iris/iris.data'\n",
    "iris = np.genfromtxt(url, delimiter=',', dtype='object')\n",
    "```\n",
    "- Desired output:\n",
    "```Python\n",
    "print(S)\n",
    "#> [ 0.222  0.167  0.111  0.083  0.194  0.306  0.083  0.194  0.028  0.167\n",
    "#>   0.306  0.139  0.139  0.     0.417  0.389  0.306  0.222  0.389  0.222\n",
    "#>   0.306  0.222  0.083  0.222  0.139  0.194  0.194  0.25   0.25   0.111\n",
    "#>   0.139  0.306  0.25   0.333  0.167  0.194  0.333  0.167  0.028  0.222\n",
    "#>   0.194  0.056  0.028  0.194  0.222  0.139  0.222  0.083  0.278  0.194\n",
    "#>   0.75   0.583  0.722  0.333  0.611  0.389  0.556  0.167  0.639  0.25\n",
    "#>   0.194  0.444  0.472  0.5    0.361  0.667  0.361  0.417  0.528  0.361\n",
    "#>   0.444  0.5    0.556  0.5    0.583  0.639  0.694  0.667  0.472  0.389\n",
    "#>   0.333  0.333  0.417  0.472  0.306  0.472  0.667  0.556  0.361  0.333\n",
    "#>   0.333  0.5    0.417  0.194  0.361  0.389  0.389  0.528  0.222  0.389\n",
    "#>   0.556  0.417  0.778  0.556  0.611  0.917  0.167  0.833  0.667  0.806\n",
    "#>   0.611  0.583  0.694  0.389  0.417  0.583  0.611  0.944  0.944  0.472\n",
    "#>   0.722  0.361  0.944  0.556  0.667  0.806  0.528  0.5    0.583  0.806\n",
    "#>   0.861  1.     0.583  0.556  0.5    0.944  0.556  0.583  0.472  0.722\n",
    "#>   0.667  0.722  0.417  0.694  0.667  0.667  0.556  0.611  0.528  0.444]\n",
    "```"
   ]
  },
  {
   "cell_type": "code",
   "execution_count": 36,
   "metadata": {},
   "outputs": [],
   "source": [
    "# Your code here"
   ]
  },
  {
   "cell_type": "markdown",
   "metadata": {},
   "source": [
    "24- Find the number and position of missing values in iris_2d‘s sepallength (1st column)\n",
    "- Input:\n",
    "```Python\n",
    "url = 'https://archive.ics.uci.edu/ml/machine-learning-databases/iris/iris.data'\n",
    "iris_2d = np.genfromtxt(url, delimiter=',', dtype='float')\n",
    "iris_2d[np.random.randint(150, size=20), np.random.randint(4, size=20)] = np.nan\n",
    "```\n",
    "- Desired output:\n",
    "```Python\n",
    "#> Number of missing values: \n",
    "...\n",
    "#> Position of missing values: \n",
    "...\n",
    "```"
   ]
  },
  {
   "cell_type": "code",
   "execution_count": 36,
   "metadata": {},
   "outputs": [],
   "source": [
    "# Your code here"
   ]
  },
  {
   "cell_type": "markdown",
   "metadata": {},
   "source": [
    "25- Select the rows of iris_2d that does not have any nan value\n",
    "- Input:\n",
    "```Python\n",
    "# Input\n",
    "url = 'https://archive.ics.uci.edu/ml/machine-learning-databases/iris/iris.data'\n",
    "iris_2d = np.genfromtxt(url, delimiter=',', dtype='float', usecols=[0,1,2,3])\n",
    "```"
   ]
  },
  {
   "cell_type": "code",
   "execution_count": 39,
   "metadata": {},
   "outputs": [],
   "source": [
    "# Your code here"
   ]
  },
  {
   "cell_type": "markdown",
   "metadata": {},
   "source": [
    "26- Replace all ccurrences of `nan` with 0 in numpy array\n",
    "- Input\n",
    "```Python\n",
    "url = 'https://archive.ics.uci.edu/ml/machine-learning-databases/iris/iris.data'\n",
    "iris_2d = np.genfromtxt(url, delimiter=',', dtype='float', usecols=[0,1,2,3])\n",
    "iris_2d[np.random.randint(150, size=20), np.random.randint(4, size=20)] = np.nan\n",
    "```"
   ]
  },
  {
   "cell_type": "code",
   "execution_count": 40,
   "metadata": {},
   "outputs": [],
   "source": [
    "# Your code here"
   ]
  },
  {
   "cell_type": "markdown",
   "metadata": {},
   "source": [
    "27- Bin the petal length (3rd) column of iris_2d to form a text array, such that if petal length is:\n",
    "- Less than 3 –> 'small'\n",
    "- 3-5 –> 'medium'\n",
    "- '>=5 –> 'large'\n",
    "- Input \n",
    "```Python\n",
    "url = 'https://archive.ics.uci.edu/ml/machine-learning-databases/iris/iris.data'\n",
    "iris = np.genfromtxt(url, delimiter=',', dtype='object')\n",
    "names = ('sepallength', 'sepalwidth', 'petallength', 'petalwidth', 'species')\n",
    "```\n",
    "- Desired output:\n",
    "```Python\n",
    "petal_length_cat[:4]\n",
    "#> ['small', 'small', 'small', 'small']\n",
    "```"
   ]
  },
  {
   "cell_type": "code",
   "execution_count": null,
   "metadata": {},
   "outputs": [],
   "source": [
    "# Your code here"
   ]
  },
  {
   "cell_type": "markdown",
   "metadata": {},
   "source": [
    "28- Find the position of the first occurrence of a value greater than 1.0 in petalwidth 4th column of iris dataset.\n",
    "- Input \n",
    "```Python\n",
    "url = 'https://archive.ics.uci.edu/ml/machine-learning-databases/iris/iris.data'\n",
    "iris = np.genfromtxt(url, delimiter=',', dtype='object')\n",
    "```\n",
    "- Desired output:\n",
    "```Python\n",
    "#> 50\n",
    "```"
   ]
  },
  {
   "cell_type": "code",
   "execution_count": 43,
   "metadata": {},
   "outputs": [],
   "source": [
    "# Your code here"
   ]
  },
  {
   "cell_type": "markdown",
   "metadata": {},
   "source": [
    "29- From the array a, replace all values greater than 30 to 30 and less than 10 to 10. \n",
    "- Input:\n",
    "```Python\n",
    "np.random.seed(100)\n",
    "a = np.random.uniform(1,50, 20)\n",
    "```\n",
    "- Desired output:\n",
    "```Python\n",
    "#> [ 27.63  14.64  21.8   30.    10.    10.    30.    30.    10.    29.18  30.\n",
    "#>   11.25  10.08  10.    11.77  30.    30.    10.    30.    14.43]\n",
    "```"
   ]
  },
  {
   "cell_type": "code",
   "execution_count": null,
   "metadata": {},
   "outputs": [],
   "source": [
    "np.random.seed(100)\n",
    "np.set_printoptions(precision=2)\n",
    "a = np.random.uniform(1,50, 20)\n",
    "a[a>=30] = 30\n",
    "a[a<= 10] = 10\n",
    "a"
   ]
  },
  {
   "cell_type": "markdown",
   "metadata": {},
   "source": [
    "30- Import the image from the following URL and convert it to a numpy array. URL = ‘https://upload.wikimedia.org/wikipedia/commons/8/8b/Denali_Mt_McKinley.jpg’\n",
    "- Input\n",
    "```Python\n",
    "from io import BytesIO\n",
    "from PIL import Image\n",
    "import PIL, requests\n",
    "```"
   ]
  },
  {
   "cell_type": "code",
   "execution_count": 44,
   "metadata": {},
   "outputs": [],
   "source": [
    "# Your code here"
   ]
  }
 ],
 "metadata": {
  "hide_input": false,
  "kernelspec": {
   "display_name": "Python 3 (ipykernel)",
   "language": "python",
   "name": "python3"
  },
  "language_info": {
   "codemirror_mode": {
    "name": "ipython",
    "version": 3
   },
   "file_extension": ".py",
   "mimetype": "text/x-python",
   "name": "python",
   "nbconvert_exporter": "python",
   "pygments_lexer": "ipython3",
   "version": "3.10.6"
  }
 },
 "nbformat": 4,
 "nbformat_minor": 4
}
